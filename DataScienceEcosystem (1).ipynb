{
 "cells": [
  {
   "cell_type": "markdown",
   "id": "4aa1062b-1b2c-4fc0-a0c9-20a5d373ce03",
   "metadata": {
    "panel-layout": {
     "height": 51.1375,
     "visible": true,
     "width": 100
    }
   },
   "source": [
    "# Data Science Tools and Ecosystem"
   ]
  },
  {
   "cell_type": "markdown",
   "id": "e65d512c-875d-461b-b427-661e59e1b1fa",
   "metadata": {},
   "source": [
    "In this notebook, Data Science Tools and Ecosystem are summarized."
   ]
  },
  {
   "cell_type": "markdown",
   "id": "03750873-41a0-465a-b63c-5a932465c947",
   "metadata": {},
   "source": [
    "### **OBJECTIVES**\n",
    "* List some of the most famous Data science languages\n",
    "* List data science libraries used\n",
    "* Use text editing on Jupyter notebook\n",
    "* Use code and markdown on Jupyter notebook"
   ]
  },
  {
   "cell_type": "markdown",
   "id": "4b7d13ae-3b0c-4238-9d2c-f350053b6760",
   "metadata": {},
   "source": [
    "### Data science languages\n",
    "\n",
    "Some of the popular languages that Data scientist use are:\n",
    "- Python\n",
    "- C++\n",
    "- Java\n",
    "- Julia\n",
    "\n",
    "<img src=\"http://localhost:8888/files/Desktop/Cursos/IA/4-ds_languages.png?_xsrf=2%7C4fa2f893%7Cbdaa9fbf667f4486706be5aef79bc00f%7C1729179735\">"
   ]
  },
  {
   "cell_type": "markdown",
   "id": "3f64a352-670d-4f7f-90fd-acc1dac02221",
   "metadata": {},
   "source": [
    "### Data science libraries\n",
    "\n",
    "Some of the commonly used libraries used by Data Scientists include:\n",
    "- Numpy (Python)\n",
    "- Pandas (Python)\n",
    "- Ggplot2 (R)\n",
    "- Plotly (R)"
   ]
  },
  {
   "cell_type": "markdown",
   "id": "d755ceba-06a5-4931-96bc-df867b443380",
   "metadata": {},
   "source": [
    "### Data science tools\n",
    "\n",
    "|Data Science Tools|\n",
    "|------------------|\n",
    "|Apache|\n",
    "|Node Red|\n",
    "|Jupyter notebooks|\n",
    "|R|\n",
    "|TensorFlow|\n",
    "\n"
   ]
  },
  {
   "cell_type": "markdown",
   "id": "eec2705d-4c7d-4401-a951-b2b6b5cce57a",
   "metadata": {},
   "source": [
    "### Below are a few examples of evaluating arithmetic expressions in Python"
   ]
  },
  {
   "cell_type": "code",
   "execution_count": 9,
   "id": "1f42b614-c1b8-45e4-9eb1-50c58bcd5624",
   "metadata": {},
   "outputs": [
    {
     "name": "stdout",
     "output_type": "stream",
     "text": [
      "17\n"
     ]
    }
   ],
   "source": [
    "#This a simple arithmetic expression to mutiply then add integers\n",
    "a = (3*4)+5\n",
    "print(a)"
   ]
  },
  {
   "cell_type": "code",
   "execution_count": 10,
   "id": "aa78a52f-2e24-482a-96a0-da2da271dafe",
   "metadata": {},
   "outputs": [
    {
     "name": "stdout",
     "output_type": "stream",
     "text": [
      "Horas totales:  3.33\n"
     ]
    }
   ],
   "source": [
    "#This will convert 200 minutes to hours by diving by 60\n",
    "minutes = 200\n",
    "hours = minutes/60\n",
    "print(\"Horas totales: \",round(hours,2))"
   ]
  },
  {
   "cell_type": "markdown",
   "id": "c59f261b-1b49-4f9b-9ec5-38278a7180df",
   "metadata": {},
   "source": [
    "## **AUTHOR**\n",
    "\n",
    "Pablo de Santiago"
   ]
  }
 ],
 "metadata": {
  "kernelspec": {
   "display_name": "Python 3 (ipykernel)",
   "language": "python",
   "name": "python3"
  },
  "language_info": {
   "codemirror_mode": {
    "name": "ipython",
    "version": 3
   },
   "file_extension": ".py",
   "mimetype": "text/x-python",
   "name": "python",
   "nbconvert_exporter": "python",
   "pygments_lexer": "ipython3",
   "version": "3.12.4"
  },
  "panel-cell-order": [
   "4aa1062b-1b2c-4fc0-a0c9-20a5d373ce03"
  ]
 },
 "nbformat": 4,
 "nbformat_minor": 5
}
